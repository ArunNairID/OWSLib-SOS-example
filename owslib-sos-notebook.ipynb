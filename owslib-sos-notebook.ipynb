{
 "metadata": {
  "name": "",
  "signature": "sha256:d1cfad559bf3d606a7fb16c3b19e94514234ded28688e77af5e133844c2edbad"
 },
 "nbformat": 3,
 "nbformat_minor": 0,
 "worksheets": [
  {
   "cells": [
    {
     "cell_type": "markdown",
     "metadata": {},
     "source": [
      "# Using OWSLib to access a SOS 2.0 service\n",
      "\n",
      "Uses a 52North SOS service hosting IOOS data (http://ioossos.axiomalaska.com)\n",
      "\n",
      "## Service setup and metadata"
     ]
    },
    {
     "cell_type": "code",
     "collapsed": false,
     "input": [
      "%matplotlib inline\n",
      "from owslib.sos import SensorObservationService\n",
      "from owslib.swe.observation.sos200 import SOSGetObservationResponse\n",
      "#service = SensorObservationService('http://geoviqua.dev.52north.org/SOS-Q/sos/kvp',version='2.0.0')\n",
      "\n",
      "service = SensorObservationService('http://ioossos.axiomalaska.com/52n-sos-ioos-stable/sos/kvp',version='2.0.0')"
     ],
     "language": "python",
     "metadata": {},
     "outputs": [],
     "prompt_number": 1
    },
    {
     "cell_type": "code",
     "collapsed": false,
     "input": [
      "service.contents"
     ],
     "language": "python",
     "metadata": {},
     "outputs": [
      {
       "metadata": {},
       "output_type": "pyout",
       "prompt_number": 2,
       "text": [
        "{'urn:ioos:network:test:all': <owslib.swe.observation.sos200.SosObservationOffering at 0x1119d6f50>,\n",
        " 'urn:ioos:station:test:0': <owslib.swe.observation.sos200.SosObservationOffering at 0x1119db590>,\n",
        " 'urn:ioos:station:test:1': <owslib.swe.observation.sos200.SosObservationOffering at 0x1119db710>,\n",
        " 'urn:ioos:station:test:2': <owslib.swe.observation.sos200.SosObservationOffering at 0x1119db810>,\n",
        " 'urn:ioos:station:test:3': <owslib.swe.observation.sos200.SosObservationOffering at 0x1119db910>,\n",
        " 'urn:ioos:station:test:4': <owslib.swe.observation.sos200.SosObservationOffering at 0x1119dba10>,\n",
        " 'urn:ioos:station:test:5': <owslib.swe.observation.sos200.SosObservationOffering at 0x1119dbb10>,\n",
        " 'urn:ioos:station:test:6': <owslib.swe.observation.sos200.SosObservationOffering at 0x1119dbc10>,\n",
        " 'urn:ioos:station:test:7': <owslib.swe.observation.sos200.SosObservationOffering at 0x1119dbd10>,\n",
        " 'urn:ioos:station:test:8': <owslib.swe.observation.sos200.SosObservationOffering at 0x1119dbe10>,\n",
        " 'urn:ioos:station:test:9': <owslib.swe.observation.sos200.SosObservationOffering at 0x1119dbf10>}"
       ]
      }
     ],
     "prompt_number": 2
    },
    {
     "cell_type": "code",
     "collapsed": false,
     "input": [
      "response = service.get_observation(responseFormat='http://www.opengis.net/waterml/2.0', offerings=['urn:ioos:station:test:8'], observedProperties=['http://mmisw.org/ont/cf/parameter/sea_water_temperature'])"
     ],
     "language": "python",
     "metadata": {},
     "outputs": [],
     "prompt_number": 3
    },
    {
     "cell_type": "markdown",
     "metadata": {},
     "source": [
      "## WaterML2.0 observation parser, plotting with pandas\n",
      "\n",
      "### Parsing response, showing result as a WaterML2.0 MeasurementTimeseriesObservation "
     ]
    },
    {
     "cell_type": "code",
     "collapsed": false,
     "input": [
      "from owslib.etree import etree\n",
      "import pandas as pd\n",
      "from pandas import Series\n",
      "\n",
      "et = etree.fromstring(response)\n",
      "parsed_response = SOSGetObservationResponse(et)\n",
      "\n",
      "parsed_response.observations[0]\n"
     ],
     "language": "python",
     "metadata": {},
     "outputs": [
      {
       "metadata": {},
       "output_type": "pyout",
       "prompt_number": 4,
       "text": [
        "<owslib.swe.observation.waterml2.MeasurementTimeseriesObservation at 0x11274ded0>"
       ]
      }
     ],
     "prompt_number": 4
    },
    {
     "cell_type": "markdown",
     "metadata": {},
     "source": [
      "### Plot the first two results"
     ]
    },
    {
     "cell_type": "code",
     "collapsed": false,
     "input": [
      "for o in parsed_response.observations[0:2]:\n",
      "    series = o.get_result()\n",
      "    dates = [p.datetime for p in series]\n",
      "    values = [p.value for p in series]  \n",
      "    \n",
      "    series = pd.Series(values, index=dates)\n",
      "    series.plot()"
     ],
     "language": "python",
     "metadata": {},
     "outputs": [
      {
       "metadata": {},
       "output_type": "display_data",
       "png": "[encoded data removed]",
       "text": [
        "<matplotlib.figure.Figure at 0x112768910>"
       ]
      }
     ],
     "prompt_number": 5
    },
    {
     "cell_type": "markdown",
     "metadata": {},
     "source": [
      "### Using OM_Observation result type"
     ]
    },
    {
     "cell_type": "code",
     "collapsed": false,
     "input": [
      "response = service.get_observation(responseFormat='http://www.opengis.net/om/2.0', offerings=['urn:ioos:station:test:8'], observedProperties=['http://mmisw.org/ont/cf/parameter/sea_water_temperature'])"
     ],
     "language": "python",
     "metadata": {},
     "outputs": [],
     "prompt_number": 12
    },
    {
     "cell_type": "code",
     "collapsed": false,
     "input": [
      "et = etree.fromstring(response)\n",
      "parsed_response = SOSGetObservationResponse(et)\n",
      "parsed_response.observations[0]"
     ],
     "language": "python",
     "metadata": {},
     "outputs": [
      {
       "metadata": {},
       "output_type": "pyout",
       "prompt_number": 13,
       "text": [
        "<owslib.swe.observation.om.OM_MeasurementObservation at 0x1126c2550>"
       ]
      }
     ],
     "prompt_number": 13
    }
   ],
   "metadata": {}
  }
 ]
}